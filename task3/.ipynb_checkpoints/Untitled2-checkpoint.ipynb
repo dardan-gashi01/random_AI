{
 "cells": [
  {
   "cell_type": "code",
   "execution_count": 1,
   "id": "380afc36",
   "metadata": {},
   "outputs": [],
   "source": [
    "import pandas as pd\n",
    "from scipy.stats import truncnorm\n",
    "import numpy as np \n",
    "import matplotlib.pyplot as plt \n",
    "from scipy.special import expit as activation_function"
   ]
  },
  {
   "cell_type": "code",
   "execution_count": 2,
   "id": "cf5e8b6a",
   "metadata": {},
   "outputs": [],
   "source": [
    "df = pd.read_csv(\"fashion-mnist_train.csv\")\n",
    "df2 = pd.read_csv(\"fashion-mnist_test.csv\")"
   ]
  },
  {
   "cell_type": "code",
   "execution_count": 3,
   "id": "ce029f23",
   "metadata": {},
   "outputs": [],
   "source": [
    "data = np.array(df)\n",
    "np.random.shuffle(data)\n",
    "n_samples,n_features = data.shape\n",
    "\n",
    "data_train = data[0:n_samples].T\n",
    "Y_train = data_train[0]\n",
    "X_train = data_train[1:n_features]/255\n",
    "#data_train.shape\n"
   ]
  },
  {
   "cell_type": "code",
   "execution_count": 4,
   "id": "e8eeef6c",
   "metadata": {},
   "outputs": [],
   "source": [
    "data_test = data[0:n_samples].T\n",
    "Y_test = data_test[0]\n",
    "X_test = data_test[1:n_features]/255\n",
    "#X_test\n",
    "#data_test.shape"
   ]
  },
  {
   "cell_type": "code",
   "execution_count": 5,
   "id": "94fac69f",
   "metadata": {},
   "outputs": [],
   "source": [
    "#all of these helper functions were taken from the labs 6 and 7\n",
    "\n",
    "#relu function\n",
    "@np.vectorize\n",
    "def ReLU(x):\n",
    "    return np.maximum(0,x)\n",
    "\n",
    "#dderivative of Relu\n",
    "@np.vectorize\n",
    "def d_ReLU(x):\n",
    "    return x > 0\n",
    "\n",
    "#softmax function\n",
    "def softmax(x):\n",
    "    return np.exp(x) / np.sum(np.exp(x), axis = 0)\n",
    "\n",
    "#sigmoid function\n",
    "@np.vectorize\n",
    "#def sigmoid(x):\n",
    " #   return 1 / (1 + np.e ** -x)\n",
    "\n",
    "def sigmoid(x):\n",
    "    if x < 0:\n",
    "        return np.exp(x)/(1+np.exp(x))\n",
    "    else:\n",
    "        return 1/(1+np.exp(-x))\n",
    "    \n",
    "#derivative of sigmoid\n",
    "@np.vectorize\n",
    "def d_sigmoid(x):\n",
    "    return x * (1.0 - x)\n",
    "\n",
    "\n",
    "def one_hot_encode_Y(Y):\n",
    "    newY = np.zeros ( (Y.size, Y.max() + 1))\n",
    "    newY[np.arange(Y.size), Y] = 1\n",
    "    newY = newY.T\n",
    "    return newY\n",
    "\n",
    "#this function I created myself for the stopping critera\n",
    "def difference(arr):\n",
    "    return [item-arr[i-1] for i, item in enumerate(arr) if i != 0]"
   ]
  },
  {
   "cell_type": "code",
   "execution_count": 16,
   "id": "e392d461",
   "metadata": {},
   "outputs": [],
   "source": [
    "class neuralNetwork():\n",
    "    \n",
    "    def __init__(self, \n",
    "                 no_of_in_nodes, \n",
    "                 no_of_out_nodes, \n",
    "                 no_of_hidden_nodes,\n",
    "                 learning_rate):\n",
    "        self.no_of_in_nodes = no_of_in_nodes\n",
    "        self.no_of_out_nodes = no_of_out_nodes\n",
    "        self.no_of_hidden_nodes = no_of_hidden_nodes\n",
    "        self.learning_rate = learning_rate \n",
    "        self.create_weight_matrices()\n",
    "        self.newY = one_hot_encode_Y(self.no_of_out_nodes)\n",
    "        \n",
    "    def create_weight_matrices(self):\n",
    "        self.w1 = np.random.randn(self.no_of_hidden_nodes, self.no_of_in_nodes )* np.sqrt(1. / self.no_of_hidden_nodes)\n",
    "        self.b1 = np.random.randn(self.no_of_hidden_nodes, 1)* np.sqrt(1. / self.no_of_hidden_nodes)\n",
    "        self.w2 = np.random.randn(self.no_of_out_nodes, self.no_of_hidden_nodes)* np.sqrt(1. / self.no_of_out_nodes)\n",
    "        self.b2 = np.random.randn(self.no_of_hidden_nodes, 1)* np.sqrt(1. / self.no_of_hidden_nodes)\n",
    "        \n",
    "    def forward_pass(self):\n",
    "        self.z1 = self.w1.dot(self.no_of_in_nodes) + self.b1\n",
    "        self.a1 = ReLU(self.z1)\n",
    "        self.z2 = self.w2.dot(self.a1) + self.b2\n",
    "        self.a2 = softmax(self.z2)\n",
    "        \n",
    "    def backward_pass(self):\n",
    "        scaling = 1/self.no_of_out_nodes.size    \n",
    "        self.z2_delta = self.a2 - self.newY\n",
    "        self.w2_delta = scaling * self.z2_delta.dot(self.a1.T)\n",
    "        self.b2_delta = scaling * np.sum(self.z2_delta)\n",
    "        self.z1_delta = self.w2.T.dot(self.z2_delta) * d_ReLU(self.z1)\n",
    "        self.w1_delta = scaling * self.z1_delta.dot(self.no_of_in_nodes.T)\n",
    "        self.b1_delta = scaling * np.sum(self.z1_delta)\n",
    "        \n",
    "    #update weights\n",
    "    def update_weights(self):\n",
    "        self.w1 -= self.learning_rate * self.w1_delta\n",
    "        self.b1 -= self.learning_rate * self.b1_delta\n",
    "        self.w2 -= self.learning_rate * self.w2_delta\n",
    "        self.b2 -= self.learning_rate * self.b2_delta\n",
    "        \n",
    "    def get_predictions(self):\n",
    "        return np.argmax(self.a2, 0)\n",
    "\n",
    "    def get_accuracy(self,predictions):\n",
    "        return (np.sum(predictions == self.no_of_out_nodes) / self.no_of_out_nodes.size) * 100\n",
    "        \n",
    "        \n",
    "    def SGDTrain(self, epochs):\n",
    "        self.create_weight_matrices()\n",
    "        for i in range(epochs):\n",
    "            self.forward_pass()\n",
    "            self.backward_pass()\n",
    "            self.update_weights()\n",
    "            rint(f'epoch: {i+1}') \n",
    "            print(f'Accuracy: {(self.get_accuracy(self.get_predictions ())):.2f}%')"
   ]
  },
  {
   "cell_type": "code",
   "execution_count": 17,
   "id": "c98b9c46",
   "metadata": {},
   "outputs": [
    {
     "ename": "TypeError",
     "evalue": "only integer scalar arrays can be converted to a scalar index",
     "output_type": "error",
     "traceback": [
      "\u001b[0;31m---------------------------------------------------------------------------\u001b[0m",
      "\u001b[0;31mTypeError\u001b[0m                                 Traceback (most recent call last)",
      "\u001b[0;32m<ipython-input-17-f0bf35350bda>\u001b[0m in \u001b[0;36m<module>\u001b[0;34m\u001b[0m\n\u001b[0;32m----> 1\u001b[0;31m \u001b[0mmodel\u001b[0m \u001b[0;34m=\u001b[0m \u001b[0mneuralNetwork\u001b[0m\u001b[0;34m(\u001b[0m\u001b[0mX_train\u001b[0m\u001b[0;34m,\u001b[0m\u001b[0mY_train\u001b[0m\u001b[0;34m,\u001b[0m \u001b[0;36m10\u001b[0m \u001b[0;34m,\u001b[0m\u001b[0;36m0.1\u001b[0m\u001b[0;34m)\u001b[0m\u001b[0;34m\u001b[0m\u001b[0;34m\u001b[0m\u001b[0m\n\u001b[0m",
      "\u001b[0;32m<ipython-input-16-391ac8e79ff8>\u001b[0m in \u001b[0;36m__init__\u001b[0;34m(self, no_of_in_nodes, no_of_out_nodes, no_of_hidden_nodes, learning_rate)\u001b[0m\n\u001b[1;32m     10\u001b[0m         \u001b[0mself\u001b[0m\u001b[0;34m.\u001b[0m\u001b[0mno_of_hidden_nodes\u001b[0m \u001b[0;34m=\u001b[0m \u001b[0mno_of_hidden_nodes\u001b[0m\u001b[0;34m\u001b[0m\u001b[0;34m\u001b[0m\u001b[0m\n\u001b[1;32m     11\u001b[0m         \u001b[0mself\u001b[0m\u001b[0;34m.\u001b[0m\u001b[0mlearning_rate\u001b[0m \u001b[0;34m=\u001b[0m \u001b[0mlearning_rate\u001b[0m\u001b[0;34m\u001b[0m\u001b[0;34m\u001b[0m\u001b[0m\n\u001b[0;32m---> 12\u001b[0;31m         \u001b[0mself\u001b[0m\u001b[0;34m.\u001b[0m\u001b[0mcreate_weight_matrices\u001b[0m\u001b[0;34m(\u001b[0m\u001b[0;34m)\u001b[0m\u001b[0;34m\u001b[0m\u001b[0;34m\u001b[0m\u001b[0m\n\u001b[0m\u001b[1;32m     13\u001b[0m         \u001b[0mself\u001b[0m\u001b[0;34m.\u001b[0m\u001b[0mnewY\u001b[0m \u001b[0;34m=\u001b[0m \u001b[0mone_hot_encode_Y\u001b[0m\u001b[0;34m(\u001b[0m\u001b[0mself\u001b[0m\u001b[0;34m.\u001b[0m\u001b[0mno_of_out_nodes\u001b[0m\u001b[0;34m)\u001b[0m\u001b[0;34m\u001b[0m\u001b[0;34m\u001b[0m\u001b[0m\n\u001b[1;32m     14\u001b[0m \u001b[0;34m\u001b[0m\u001b[0m\n",
      "\u001b[0;32m<ipython-input-16-391ac8e79ff8>\u001b[0m in \u001b[0;36mcreate_weight_matrices\u001b[0;34m(self)\u001b[0m\n\u001b[1;32m     14\u001b[0m \u001b[0;34m\u001b[0m\u001b[0m\n\u001b[1;32m     15\u001b[0m     \u001b[0;32mdef\u001b[0m \u001b[0mcreate_weight_matrices\u001b[0m\u001b[0;34m(\u001b[0m\u001b[0mself\u001b[0m\u001b[0;34m)\u001b[0m\u001b[0;34m:\u001b[0m\u001b[0;34m\u001b[0m\u001b[0;34m\u001b[0m\u001b[0m\n\u001b[0;32m---> 16\u001b[0;31m         \u001b[0mself\u001b[0m\u001b[0;34m.\u001b[0m\u001b[0mw1\u001b[0m \u001b[0;34m=\u001b[0m \u001b[0mnp\u001b[0m\u001b[0;34m.\u001b[0m\u001b[0mrandom\u001b[0m\u001b[0;34m.\u001b[0m\u001b[0mrandn\u001b[0m\u001b[0;34m(\u001b[0m\u001b[0mself\u001b[0m\u001b[0;34m.\u001b[0m\u001b[0mno_of_hidden_nodes\u001b[0m\u001b[0;34m,\u001b[0m \u001b[0mself\u001b[0m\u001b[0;34m.\u001b[0m\u001b[0mno_of_in_nodes\u001b[0m \u001b[0;34m)\u001b[0m \u001b[0;34m-\u001b[0m \u001b[0;36m0.5\u001b[0m\u001b[0;34m\u001b[0m\u001b[0;34m\u001b[0m\u001b[0m\n\u001b[0m\u001b[1;32m     17\u001b[0m         \u001b[0mself\u001b[0m\u001b[0;34m.\u001b[0m\u001b[0mb1\u001b[0m \u001b[0;34m=\u001b[0m \u001b[0mnp\u001b[0m\u001b[0;34m.\u001b[0m\u001b[0mrandom\u001b[0m\u001b[0;34m.\u001b[0m\u001b[0mrandn\u001b[0m\u001b[0;34m(\u001b[0m\u001b[0mself\u001b[0m\u001b[0;34m.\u001b[0m\u001b[0mno_of_hidden_nodes\u001b[0m\u001b[0;34m,\u001b[0m \u001b[0;36m1\u001b[0m\u001b[0;34m)\u001b[0m \u001b[0;34m-\u001b[0m \u001b[0;36m0.5\u001b[0m\u001b[0;34m\u001b[0m\u001b[0;34m\u001b[0m\u001b[0m\n\u001b[1;32m     18\u001b[0m         \u001b[0mself\u001b[0m\u001b[0;34m.\u001b[0m\u001b[0mw2\u001b[0m \u001b[0;34m=\u001b[0m \u001b[0mnp\u001b[0m\u001b[0;34m.\u001b[0m\u001b[0mrandom\u001b[0m\u001b[0;34m.\u001b[0m\u001b[0mrandn\u001b[0m\u001b[0;34m(\u001b[0m\u001b[0mself\u001b[0m\u001b[0;34m.\u001b[0m\u001b[0mno_of_out_nodes\u001b[0m\u001b[0;34m,\u001b[0m \u001b[0mself\u001b[0m\u001b[0;34m.\u001b[0m\u001b[0mno_of_hidden_nodes\u001b[0m\u001b[0;34m)\u001b[0m \u001b[0;34m-\u001b[0m \u001b[0;36m0.5\u001b[0m\u001b[0;34m\u001b[0m\u001b[0;34m\u001b[0m\u001b[0m\n",
      "\u001b[0;32mmtrand.pyx\u001b[0m in \u001b[0;36mnumpy.random.mtrand.RandomState.randn\u001b[0;34m()\u001b[0m\n",
      "\u001b[0;32mmtrand.pyx\u001b[0m in \u001b[0;36mnumpy.random.mtrand.RandomState.standard_normal\u001b[0;34m()\u001b[0m\n",
      "\u001b[0;32m_common.pyx\u001b[0m in \u001b[0;36mnumpy.random._common.cont\u001b[0;34m()\u001b[0m\n",
      "\u001b[0;31mTypeError\u001b[0m: only integer scalar arrays can be converted to a scalar index"
     ]
    }
   ],
   "source": [
    "model = neuralNetwork(X_train,Y_train, 10 ,0.1)"
   ]
  },
  {
   "cell_type": "code",
   "execution_count": null,
   "id": "8706eef8",
   "metadata": {},
   "outputs": [],
   "source": []
  }
 ],
 "metadata": {
  "kernelspec": {
   "display_name": "Python 3",
   "language": "python",
   "name": "python3"
  },
  "language_info": {
   "codemirror_mode": {
    "name": "ipython",
    "version": 3
   },
   "file_extension": ".py",
   "mimetype": "text/x-python",
   "name": "python",
   "nbconvert_exporter": "python",
   "pygments_lexer": "ipython3",
   "version": "3.8.8"
  }
 },
 "nbformat": 4,
 "nbformat_minor": 5
}
