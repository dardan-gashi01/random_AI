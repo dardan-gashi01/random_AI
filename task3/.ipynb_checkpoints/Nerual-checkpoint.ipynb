{
 "cells": [
  {
   "cell_type": "markdown",
   "id": "f9405db1",
   "metadata": {},
   "source": [
    "# imports"
   ]
  },
  {
   "cell_type": "code",
   "execution_count": 1,
   "id": "4a947ffe",
   "metadata": {},
   "outputs": [],
   "source": [
    "import pandas as pd\n",
    "from scipy.stats import truncnorm\n",
    "import numpy as np \n",
    "import matplotlib.pyplot as plt \n",
    "from scipy.special import expit as activation_function"
   ]
  },
  {
   "cell_type": "markdown",
   "id": "10f0df72",
   "metadata": {},
   "source": [
    "# reading for the data set"
   ]
  },
  {
   "cell_type": "code",
   "execution_count": 2,
   "id": "34a5eaf8",
   "metadata": {},
   "outputs": [],
   "source": [
    "df = pd.read_csv(\"fashion-mnist_train.csv\")\n",
    "df2 = pd.read_csv(\"fashion-mnist_test.csv\")"
   ]
  },
  {
   "cell_type": "markdown",
   "id": "94fecccc",
   "metadata": {},
   "source": [
    "# manipulating the data to make it useable"
   ]
  },
  {
   "cell_type": "code",
   "execution_count": 3,
   "id": "4cd9c636",
   "metadata": {},
   "outputs": [],
   "source": [
    "data = np.array(df)\n",
    "n_samples,n_features = data.shape\n",
    "\n",
    "data_train = data[0:n_samples].T\n",
    "Y_train = data_train[0]\n",
    "X_train = data_train[1:n_features]/255\n",
    "#data_train.shape\n",
    "\n"
   ]
  },
  {
   "cell_type": "code",
   "execution_count": 4,
   "id": "ed591fcd",
   "metadata": {},
   "outputs": [],
   "source": [
    "data_test = data[0:n_samples].T\n",
    "Y_test = data_test[0]\n",
    "X_test = data_test[1:n_features]/255\n",
    "#data_test.shape"
   ]
  },
  {
   "cell_type": "markdown",
   "id": "7aca61cd",
   "metadata": {},
   "source": [
    "# making the neural network class"
   ]
  },
  {
   "cell_type": "code",
   "execution_count": 42,
   "id": "a26f1495",
   "metadata": {},
   "outputs": [],
   "source": [
    "#all of these helper functions were taken from the labs 6 and 7\n",
    "\n",
    "#relu function\n",
    "@np.vectorize\n",
    "def ReLU(x):\n",
    "    return np.maximum(0,x)\n",
    "\n",
    "#dderivative of Relu\n",
    "@np.vectorize\n",
    "def d_ReLU(x):\n",
    "    return x > 0\n",
    "\n",
    "#softmax function\n",
    "def softmax(x):\n",
    "    return np.exp(x) / np.sum(np.exp(x), axis = 0)\n",
    "\n",
    "#sigmoid function\n",
    "@np.vectorize\n",
    "def sigmoid(x):\n",
    "    return 1 / (1 + np.e ** -x)\n",
    "\n",
    "#derivative of sigmoid\n",
    "@np.vectorize\n",
    "def d_sigmoid(x):\n",
    "    return x * (1.0 - x)\n",
    "\n",
    "def one_hot_encode_Y(Y):\n",
    "    newY = np.zeros ( (Y.size, Y.max() + 1))\n",
    "    newY[np.arange(Y.size), Y] = 1\n",
    "    newY = newY.T\n",
    "    return newY"
   ]
  },
  {
   "cell_type": "code",
   "execution_count": 48,
   "id": "dbc3d5b4",
   "metadata": {},
   "outputs": [],
   "source": [
    "class neuralNetwork():\n",
    "    \n",
    "    def __init__(self, \n",
    "                 no_of_in_nodes, \n",
    "                 no_of_out_nodes, \n",
    "                 no_of_hidden_nodes,\n",
    "                 learning_rate):\n",
    "        self.no_of_in_nodes = no_of_in_nodes\n",
    "        self.no_of_out_nodes = no_of_out_nodes\n",
    "        self.no_of_hidden_nodes = no_of_hidden_nodes\n",
    "        self.learning_rate = learning_rate \n",
    "        self.create_weight_matrices()\n",
    "        \n",
    "    def create_weight_matrices(self):\n",
    "        self.w1 = np.random.rand(10, 784) - 0.5 \n",
    "        self.b1 = np.random.rand(10, 1) - 0.5\n",
    "        self.w2 = np.random.rand(10, 10) - 0.5 \n",
    "        self.b2 = np.random.rand(10, 1) - 0.5\n",
    "        return self.w1, self.b1, self.w2, self.b2\n",
    "    \n",
    "    def forward_pass(self):\n",
    "        self.z1 = self.w1.dot(self.no_of_in_nodes) + self.b1\n",
    "        self.a1 = ReLU(self.z1)\n",
    "        self.z2 = self.w2.dot(self.a1) + self.b2\n",
    "        self.a2 = softmax(self.z2)\n",
    "        return self.a2\n",
    "    \n",
    "    def backwards_pass(self):\n",
    "        m = self.no_of_out_nodes.size\n",
    "        newY = one_hot_encode_Y(self.no_of_out_nodes)\n",
    "        self.dz2 = self.a2 - newY\n",
    "        self.dw2 = 1/m * self.dz2.dot(self.a1.T)\n",
    "        self.db2 = 1/m * np.sum(self.dz2)\n",
    "        self.dz1 = self.w2.T.dot(self.dz2) * d_ReLU(self.z1)\n",
    "        self.dw1 = 1/m * self.dz1.dot(self.no_of_in_nodes.T)\n",
    "        self.db1 = 1/m * np.sum(self.dz1)\n",
    "    \n",
    "    def update_weights(self):\n",
    "        self.w1 -= self.learning_rate * self.dw1\n",
    "        self.b1 -= self.learning_rate * self.db1\n",
    "        self.w2 -= self.learning_rate * self.dw2\n",
    "        self.b2 -= self.learning_rate * self.db2\n",
    "        \n",
    "    def get_predictions(self):\n",
    "        return np.argmax(self.a2, 0)\n",
    "\n",
    "    def get_accuracy(self,predictions):\n",
    "        return np.sum(predictions == self.no_of_out_nodes) / self.no_of_out_nodes.size\n",
    "    \n",
    "    \n",
    "    def train(self, epochs):\n",
    "        acc_list = []\n",
    "        self.create_weight_matrices()\n",
    "        for i in range(epochs):\n",
    "            self.forward_pass()\n",
    "            self.backwards_pass()\n",
    "            self.update_weights()\n",
    "            print(f'epoch: {i}') \n",
    "            print(f'Accuracy: {(self.get_accuracy(self.get_predictions ()))}% ')\n",
    "            acc_list.append(self.get_accuracy(self.get_predictions ()))\n",
    "        return acc_list\n",
    "            \n",
    "    "
   ]
  },
  {
   "cell_type": "code",
   "execution_count": 49,
   "id": "663b15f7",
   "metadata": {},
   "outputs": [
    {
     "name": "stdout",
     "output_type": "stream",
     "text": [
      "epoch:0\n",
      "Accuracy: 0.07983333333333334% \n",
      "epoch:1\n",
      "Accuracy: 0.11081666666666666% \n",
      "epoch:2\n",
      "Accuracy: 0.15171666666666667% \n",
      "epoch:3\n",
      "Accuracy: 0.1817% \n",
      "epoch:4\n",
      "Accuracy: 0.20385% \n",
      "epoch:5\n",
      "Accuracy: 0.21926666666666667% \n",
      "epoch:6\n",
      "Accuracy: 0.23203333333333334% \n",
      "epoch:7\n",
      "Accuracy: 0.24166666666666667% \n",
      "epoch:8\n",
      "Accuracy: 0.24855% \n",
      "epoch:9\n",
      "Accuracy: 0.25583333333333336% \n"
     ]
    }
   ],
   "source": [
    "model = neuralNetwork(X_train,Y_train, 10 ,0.1)\n",
    "accuracy = model.train(10)\n"
   ]
  },
  {
   "cell_type": "code",
   "execution_count": 41,
   "id": "212cbe4c",
   "metadata": {},
   "outputs": [
    {
     "data": {
      "text/plain": [
       "<matplotlib.legend.Legend at 0x7fd951948dc0>"
      ]
     },
     "execution_count": 41,
     "metadata": {},
     "output_type": "execute_result"
    },
    {
     "data": {
      "image/png": "[encoded data removed]",
      "text/plain": [
       "<Figure size 432x288 with 1 Axes>"
      ]
     },
     "metadata": {
      "needs_background": "light"
     },
     "output_type": "display_data"
    }
   ],
   "source": [
    "plt.plot(accuracy, label = 'accuracy')\n",
    "plt.xlabel('epochs')\n",
    "plt.ylabel('accuracy')\n",
    "plt.legend(frameon = False)"
   ]
  },
  {
   "cell_type": "code",
   "execution_count": null,
   "id": "0b858250",
   "metadata": {},
   "outputs": [],
   "source": []
  }
 ],
 "metadata": {
  "kernelspec": {
   "display_name": "Python 3",
   "language": "python",
   "name": "python3"
  },
  "language_info": {
   "codemirror_mode": {
    "name": "ipython",
    "version": 3
   },
   "file_extension": ".py",
   "mimetype": "text/x-python",
   "name": "python",
   "nbconvert_exporter": "python",
   "pygments_lexer": "ipython3",
   "version": "3.8.8"
  }
 },
 "nbformat": 4,
 "nbformat_minor": 5
}
