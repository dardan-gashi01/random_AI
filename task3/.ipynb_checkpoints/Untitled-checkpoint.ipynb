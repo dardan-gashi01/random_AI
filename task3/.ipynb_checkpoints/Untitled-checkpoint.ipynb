{
 "cells": [
  {
   "cell_type": "code",
   "execution_count": 1,
   "id": "986662ec",
   "metadata": {},
   "outputs": [],
   "source": [
    "import pandas as pd\n",
    "from scipy.stats import truncnorm\n",
    "import numpy as np \n",
    "import matplotlib.pyplot as plt \n",
    "from scipy.special import expit as activation_function"
   ]
  },
  {
   "cell_type": "markdown",
   "id": "489fb3cc",
   "metadata": {},
   "source": [
    "# reading the datasets for train and test"
   ]
  },
  {
   "cell_type": "code",
   "execution_count": 2,
   "id": "73899703",
   "metadata": {},
   "outputs": [],
   "source": [
    "df = pd.read_csv(\"fashion-mnist_train.csv\")\n",
    "df2 = pd.read_csv(\"fashion-mnist_test.csv\")"
   ]
  },
  {
   "cell_type": "markdown",
   "id": "9a7f1054",
   "metadata": {},
   "source": [
    "# splitting the data for train and test"
   ]
  },
  {
   "cell_type": "code",
   "execution_count": 3,
   "id": "1ac7f7a6",
   "metadata": {},
   "outputs": [],
   "source": [
    "data = np.array(df)\n",
    "n_samples,n_features = data.shape\n",
    "\n",
    "data_train = data[0:n_samples].T\n",
    "Y_train = data_train[0]\n",
    "X_train = data_train[1:n_features]/255\n",
    "#data_train.shape\n",
    "\n",
    "data_test = data[0:n_samples].T\n",
    "Y_test = data_test[0]\n",
    "X_test = data_test[1:n_features]/255"
   ]
  },
  {
   "cell_type": "markdown",
   "id": "c844e86d",
   "metadata": {},
   "source": [
    "# helper functions for the activation functions"
   ]
  },
  {
   "cell_type": "code",
   "execution_count": 4,
   "id": "595db542",
   "metadata": {},
   "outputs": [],
   "source": [
    "#relu function\n",
    "@np.vectorize\n",
    "def ReLU(x):\n",
    "    return np.maximum(0,x)\n",
    "\n",
    "#dderivative of Relu\n",
    "@np.vectorize\n",
    "def d_ReLU(x):\n",
    "    return x > 0\n",
    "\n",
    "#softmax function\n",
    "def softmax(x):\n",
    "    return np.exp(x) / np.sum(np.exp(x), axis = 0)\n",
    "\n",
    "#sigmoid function\n",
    "@np.vectorize\n",
    "def sigmoid(x):\n",
    "    return 1 / (1 + np.e ** -x)\n",
    "\n",
    "#derivative of sigmoid\n",
    "@np.vectorize\n",
    "def d_sigmoid(x):\n",
    "    return x * (1.0 - x)\n"
   ]
  },
  {
   "cell_type": "markdown",
   "id": "72b5907b",
   "metadata": {},
   "source": [
    "# the nerual network class that trains the train data"
   ]
  },
  {
   "cell_type": "code",
   "execution_count": 5,
   "id": "24cc9f65",
   "metadata": {},
   "outputs": [],
   "source": [
    "#not finished\n",
    "class neuralNetwork():\n",
    "    \n",
    "    def __init__(self, \n",
    "                 no_of_in_nodes, \n",
    "                 no_of_out_nodes, \n",
    "                 no_of_hidden_nodes,\n",
    "                 learning_rate):\n",
    "        self.no_of_in_nodes = no_of_in_nodes\n",
    "        self.no_of_out_nodes = no_of_out_nodes\n",
    "        self.no_of_hidden_nodes = no_of_hidden_nodes\n",
    "        self.learning_rate = learning_rate \n",
    "        self.create_weight_matrices()\n",
    "        \n",
    "    def create_weight_matrices(self):\n",
    "        self.w1 = np.random.rand(10, 784) - 0.5 \n",
    "        self.b1 = np.random.rand(10, 1) - 0.5\n",
    "        self.w2 = np.random.rand(10, 10) - 0.5 \n",
    "        self.b2 = np.random.rand(10, 1) - 0.5\n",
    "        return self.w1, self.b1, self.w2, self.b2"
   ]
  },
  {
   "cell_type": "code",
   "execution_count": null,
   "id": "8b664afe",
   "metadata": {},
   "outputs": [],
   "source": []
  }
 ],
 "metadata": {
  "kernelspec": {
   "display_name": "Python 3",
   "language": "python",
   "name": "python3"
  },
  "language_info": {
   "codemirror_mode": {
    "name": "ipython",
    "version": 3
   },
   "file_extension": ".py",
   "mimetype": "text/x-python",
   "name": "python",
   "nbconvert_exporter": "python",
   "pygments_lexer": "ipython3",
   "version": "3.8.8"
  }
 },
 "nbformat": 4,
 "nbformat_minor": 5
}
