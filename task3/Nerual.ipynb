{
 "cells": [
  {
   "cell_type": "markdown",
   "id": "f9405db1",
   "metadata": {},
   "source": [
    "# imports"
   ]
  },
  {
   "cell_type": "code",
   "execution_count": 2,
   "id": "4a947ffe",
   "metadata": {},
   "outputs": [],
   "source": [
    "import pandas as pd\n",
    "from scipy.stats import truncnorm\n",
    "import numpy as np \n",
    "import matplotlib.pyplot as plt \n",
    "from scipy.special import expit as activation_function"
   ]
  },
  {
   "cell_type": "markdown",
   "id": "10f0df72",
   "metadata": {},
   "source": [
    "# reading for the data set"
   ]
  },
  {
   "cell_type": "code",
   "execution_count": 3,
   "id": "34a5eaf8",
   "metadata": {},
   "outputs": [],
   "source": [
    "df = pd.read_csv(\"fashion-mnist_train.csv\")\n",
    "df2 = pd.read_csv(\"fashion-mnist_test.csv\")"
   ]
  },
  {
   "cell_type": "markdown",
   "id": "94fecccc",
   "metadata": {},
   "source": [
    "# manipulating the data to make it useable"
   ]
  },
  {
   "cell_type": "code",
   "execution_count": 4,
   "id": "4cd9c636",
   "metadata": {},
   "outputs": [],
   "source": [
    "data = np.array(df)\n",
    "n_samples,n_features = data.shape\n",
    "\n",
    "data_train = data[0:n_samples].T\n",
    "Y_train = data_train[0]\n",
    "X_train = data_train[1:n_features]/255\n",
    "#data_train.shape\n",
    "\n",
    "data_test = data[0:n_samples].T\n",
    "Y_test = data_test[0]\n",
    "X_test = data_test[1:n_features]/255"
   ]
  },
  {
   "cell_type": "markdown",
   "id": "7aca61cd",
   "metadata": {},
   "source": [
    "# making the neural network class"
   ]
  },
  {
   "cell_type": "code",
   "execution_count": 24,
   "id": "a26f1495",
   "metadata": {},
   "outputs": [],
   "source": [
    "#relu function\n",
    "@np.vectorize\n",
    "def ReLU(x):\n",
    "    return np.maximum(0,x)\n",
    "\n",
    "#dderivative of Relu\n",
    "@np.vectorize\n",
    "def d_ReLU(x):\n",
    "    return x > 0\n",
    "\n",
    "#softmax function\n",
    "def softmax(x):\n",
    "    return np.exp(x) / np.sum(np.exp(x), axis = 0)\n",
    "\n",
    "#sigmoid function\n",
    "@np.vectorize\n",
    "def sigmoid(x):\n",
    "    return 1 / (1 + np.e ** -x)\n",
    "\n",
    "#derivative of sigmoid\n",
    "@np.vectorize\n",
    "def d_sigmoid(x):\n",
    "    return x * (1.0 - x)\n",
    "\n",
    "def one_hotY(Y):\n",
    "    one_hot_Y = np.zeros ( (Y.size, Y.max() + 1))\n",
    "    one_hot_Y[np.arange(Y.size), Y] = 1\n",
    "    one_hot_Y = one_hot_Y.T\n",
    "    return one_hot_Y\n",
    "\n",
    "class neuralNetwork():\n",
    "    \n",
    "    def __init__(self, \n",
    "                 no_of_in_nodes, \n",
    "                 no_of_out_nodes, \n",
    "                 no_of_hidden_nodes,\n",
    "                 learning_rate):\n",
    "        self.no_of_in_nodes = no_of_in_nodes\n",
    "        self.no_of_out_nodes = no_of_out_nodes\n",
    "        self.no_of_hidden_nodes = no_of_hidden_nodes\n",
    "        self.learning_rate = learning_rate \n",
    "        self.create_weight_matrices()\n",
    "        \n",
    "    def create_weight_matrices(self):\n",
    "        self.w1 = np.random.rand(10, 784) - 0.5 \n",
    "        self.b1 = np.random.rand(10, 1) - 0.5\n",
    "        self.w2 = np.random.rand(10, 10) - 0.5 \n",
    "        self.b2 = np.random.rand(10, 1) - 0.5\n",
    "        return self.w1, self.b1, self.w2, self.b2\n",
    "    \n",
    "    def forward_pass(self):\n",
    "        self.z1 = self.w1.dot(self.no_of_in_nodes) + self.b1\n",
    "        self.a1 = ReLU(self.z1)\n",
    "        self.z2 = self.w2.dot(self.a1) + self.b2\n",
    "        self.a2 = softmax(self.z2)\n",
    "        return self.a2\n",
    "        #return self.z1, self.a1, self.z2, self.a2\n",
    "    \n",
    "    def backwards_pass(self):\n",
    "        m = self.no_of_out_nodes.size\n",
    "        one_hot_Y = one_hotY(self.no_of_out_nodes)\n",
    "        self.dz2 = self.a2 - one_hot_Y\n",
    "        self.dw2 = 1/m * self.dz2.dot(self.a1.T)\n",
    "        self.db2 = 1/m * np.sum(self.dz2)\n",
    "        self.dz1 = self.w2.T.dot(self.dz2) * d_ReLU(self.z1)\n",
    "        self.dw1 = 1/m * self.dz1.dot(self.no_of_in_nodes.T)\n",
    "        self.db1 = 1/m * np.sum(self.dz1)\n",
    "        #return self.dw1, self.db1, self.dw2, self.db2\n",
    "    \n",
    "    def update_params(self):\n",
    "        self.w1 -= self.learning_rate * self.dw1\n",
    "        self.b1 -= self.learning_rate * self.db1\n",
    "        self.w2 -= self.learning_rate * self.dw2\n",
    "        self.b2 -= self.learning_rate * self.db2\n",
    "        #return self.w1, self.b1, self.w2, self.b2\n",
    "        \n",
    "    def get_predictions(self):\n",
    "        return np.argmax(self.a2, 0)\n",
    "\n",
    "    def get_accuracy(self,predictions):\n",
    "        print(predictions, self.no_of_out_nodes)\n",
    "        return np.sum(predictions == self.no_of_out_nodes) / self.no_of_out_nodes.size\n",
    "    \n",
    "    \n",
    "    def train(self, epochs):\n",
    "        self.create_weight_matrices()\n",
    "        for i in range(epochs):\n",
    "            self.forward_pass()\n",
    "            self.backwards_pass()\n",
    "            self.update_params ()\n",
    "            print(\"Iteration: \", i) \n",
    "            print(\"Accuracy: \", self.get_accuracy(self.get_predictions ()))  \n",
    "            \n",
    "    def make_predictions(self):\n",
    "        self.forward_pass()\n",
    "        predictions = self.get_predictions()\n",
    "        return predictions\n",
    "    \n",
    "    def test_prediction(self, index):\n",
    "        current_image = X_train[:, index, None]\n",
    "        prediction = make_predictions()\n",
    "        label = Y_train[index]\n",
    "        print(\"Prediction: \", prediction)\n",
    "        print(\"Label: \", label)\n",
    "        \n",
    "        current_image = current_image.reshape((28, 28)) * 255\n",
    "        plt.gray()\n",
    "        plt.imshow(current_image, interpolation='nearest')\n",
    "        plt.show()\n",
    "        \n",
    "        "
   ]
  },
  {
   "cell_type": "code",
   "execution_count": 25,
   "id": "663b15f7",
   "metadata": {},
   "outputs": [
    {
     "name": "stdout",
     "output_type": "stream",
     "text": [
      "Iteration:  0\n",
      "[7 7 3 ... 0 7 7] [2 9 6 ... 8 8 7]\n",
      "Accuracy:  0.1041\n",
      "Iteration:  1\n",
      "[0 2 0 ... 0 2 0] [2 9 6 ... 8 8 7]\n",
      "Accuracy:  0.11156666666666666\n",
      "Iteration:  2\n",
      "[7 2 2 ... 2 2 7] [2 9 6 ... 8 8 7]\n",
      "Accuracy:  0.17645\n",
      "Iteration:  3\n",
      "[7 7 2 ... 2 2 7] [2 9 6 ... 8 8 7]\n",
      "Accuracy:  0.17548333333333332\n",
      "Iteration:  4\n",
      "[7 7 2 ... 2 2 7] [2 9 6 ... 8 8 7]\n",
      "Accuracy:  0.20046666666666665\n",
      "Iteration:  5\n",
      "[7 7 2 ... 2 2 7] [2 9 6 ... 8 8 7]\n",
      "Accuracy:  0.2518166666666667\n",
      "Iteration:  6\n",
      "[7 7 2 ... 2 2 7] [2 9 6 ... 8 8 7]\n",
      "Accuracy:  0.27603333333333335\n",
      "Iteration:  7\n",
      "[7 7 2 ... 2 2 7] [2 9 6 ... 8 8 7]\n",
      "Accuracy:  0.285\n",
      "Iteration:  8\n",
      "[7 7 2 ... 2 2 7] [2 9 6 ... 8 8 7]\n",
      "Accuracy:  0.3060833333333333\n",
      "Iteration:  9\n",
      "[7 7 2 ... 2 2 7] [2 9 6 ... 8 8 7]\n",
      "Accuracy:  0.32471666666666665\n"
     ]
    }
   ],
   "source": [
    "model = neuralNetwork(X_train,Y_train, 10 ,0.5)\n",
    "model.train(10)"
   ]
  },
  {
   "cell_type": "code",
   "execution_count": 13,
   "id": "212cbe4c",
   "metadata": {},
   "outputs": [],
   "source": []
  },
  {
   "cell_type": "code",
   "execution_count": 26,
   "id": "e8de8554",
   "metadata": {},
   "outputs": [
    {
     "ename": "NameError",
     "evalue": "name 'self' is not defined",
     "output_type": "error",
     "traceback": [
      "\u001b[0;31m---------------------------------------------------------------------------\u001b[0m",
      "\u001b[0;31mNameError\u001b[0m                                 Traceback (most recent call last)",
      "\u001b[0;32m<ipython-input-26-365b0f19138d>\u001b[0m in \u001b[0;36m<module>\u001b[0;34m\u001b[0m\n\u001b[0;32m----> 1\u001b[0;31m \u001b[0mmodel\u001b[0m\u001b[0;34m.\u001b[0m\u001b[0mtest_prediction\u001b[0m\u001b[0;34m(\u001b[0m\u001b[0;36m2\u001b[0m\u001b[0;34m)\u001b[0m\u001b[0;34m\u001b[0m\u001b[0;34m\u001b[0m\u001b[0m\n\u001b[0m",
      "\u001b[0;32m<ipython-input-24-806ecc8aa2e5>\u001b[0m in \u001b[0;36mtest_prediction\u001b[0;34m(self, index)\u001b[0m\n\u001b[1;32m     99\u001b[0m     \u001b[0;32mdef\u001b[0m \u001b[0mtest_prediction\u001b[0m\u001b[0;34m(\u001b[0m\u001b[0mself\u001b[0m\u001b[0;34m,\u001b[0m \u001b[0mindex\u001b[0m\u001b[0;34m)\u001b[0m\u001b[0;34m:\u001b[0m\u001b[0;34m\u001b[0m\u001b[0;34m\u001b[0m\u001b[0m\n\u001b[1;32m    100\u001b[0m         \u001b[0mcurrent_image\u001b[0m \u001b[0;34m=\u001b[0m \u001b[0mX_train\u001b[0m\u001b[0;34m[\u001b[0m\u001b[0;34m:\u001b[0m\u001b[0;34m,\u001b[0m \u001b[0mindex\u001b[0m\u001b[0;34m,\u001b[0m \u001b[0;32mNone\u001b[0m\u001b[0;34m]\u001b[0m\u001b[0;34m\u001b[0m\u001b[0;34m\u001b[0m\u001b[0m\n\u001b[0;32m--> 101\u001b[0;31m         \u001b[0mprediction\u001b[0m \u001b[0;34m=\u001b[0m \u001b[0mmake_predictions\u001b[0m\u001b[0;34m(\u001b[0m\u001b[0;34m)\u001b[0m\u001b[0;34m\u001b[0m\u001b[0;34m\u001b[0m\u001b[0m\n\u001b[0m\u001b[1;32m    102\u001b[0m         \u001b[0mlabel\u001b[0m \u001b[0;34m=\u001b[0m \u001b[0mY_train\u001b[0m\u001b[0;34m[\u001b[0m\u001b[0mindex\u001b[0m\u001b[0;34m]\u001b[0m\u001b[0;34m\u001b[0m\u001b[0;34m\u001b[0m\u001b[0m\n\u001b[1;32m    103\u001b[0m         \u001b[0mprint\u001b[0m\u001b[0;34m(\u001b[0m\u001b[0;34m\"Prediction: \"\u001b[0m\u001b[0;34m,\u001b[0m \u001b[0mprediction\u001b[0m\u001b[0;34m)\u001b[0m\u001b[0;34m\u001b[0m\u001b[0;34m\u001b[0m\u001b[0m\n",
      "\u001b[0;32m<ipython-input-13-7ccd5ea827a0>\u001b[0m in \u001b[0;36mmake_predictions\u001b[0;34m()\u001b[0m\n\u001b[1;32m      1\u001b[0m \u001b[0;32mdef\u001b[0m \u001b[0mmake_predictions\u001b[0m\u001b[0;34m(\u001b[0m\u001b[0;34m)\u001b[0m\u001b[0;34m:\u001b[0m\u001b[0;34m\u001b[0m\u001b[0;34m\u001b[0m\u001b[0m\n\u001b[0;32m----> 2\u001b[0;31m     \u001b[0mself\u001b[0m\u001b[0;34m.\u001b[0m\u001b[0mforward_pass\u001b[0m\u001b[0;34m(\u001b[0m\u001b[0;34m)\u001b[0m\u001b[0;34m\u001b[0m\u001b[0;34m\u001b[0m\u001b[0m\n\u001b[0m\u001b[1;32m      3\u001b[0m     \u001b[0mpredictions\u001b[0m \u001b[0;34m=\u001b[0m \u001b[0mself\u001b[0m\u001b[0;34m.\u001b[0m\u001b[0mget_predictions\u001b[0m\u001b[0;34m(\u001b[0m\u001b[0;34m)\u001b[0m\u001b[0;34m\u001b[0m\u001b[0;34m\u001b[0m\u001b[0m\n\u001b[1;32m      4\u001b[0m     \u001b[0;32mreturn\u001b[0m \u001b[0mpredictions\u001b[0m\u001b[0;34m\u001b[0m\u001b[0;34m\u001b[0m\u001b[0m\n",
      "\u001b[0;31mNameError\u001b[0m: name 'self' is not defined"
     ]
    }
   ],
   "source": [
    "model.test_prediction(2)"
   ]
  },
  {
   "cell_type": "code",
   "execution_count": null,
   "id": "0b858250",
   "metadata": {},
   "outputs": [],
   "source": []
  }
 ],
 "metadata": {
  "kernelspec": {
   "display_name": "Python 3",
   "language": "python",
   "name": "python3"
  },
  "language_info": {
   "codemirror_mode": {
    "name": "ipython",
    "version": 3
   },
   "file_extension": ".py",
   "mimetype": "text/x-python",
   "name": "python",
   "nbconvert_exporter": "python",
   "pygments_lexer": "ipython3",
   "version": "3.8.8"
  }
 },
 "nbformat": 4,
 "nbformat_minor": 5
}
