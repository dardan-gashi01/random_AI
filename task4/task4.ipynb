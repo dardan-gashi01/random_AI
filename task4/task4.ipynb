{
 "cells": [
  {
   "cell_type": "code",
   "execution_count": 33,
   "id": "d4f62036",
   "metadata": {},
   "outputs": [],
   "source": [
    "import torch\n",
    "import torch.nn as nn\n",
    "import torchvision\n",
    "import numpy as np\n",
    "import pandas as pd\n",
    "import matplotlib.pyplot as plt\n",
    "import torchvision.transforms as transforms \n",
    "import torch.nn.functional as F\n",
    "from torchvision.utils import make_grid\n",
    "from sklearn.metrics import confusion_matrix\n",
    "import itertools"
   ]
  },
  {
   "cell_type": "code",
   "execution_count": 34,
   "id": "5424fef0",
   "metadata": {},
   "outputs": [],
   "source": [
    "#transforming the data to be useable and turning them into tensors so it works with pytorch\n",
    "means = (0.5,0.5,0.5)\n",
    "std = (0.5,0.5,0.5)\n",
    "\n",
    "train_transform = transforms.Compose([transforms.ToTensor(),\n",
    "     transforms.Normalize(means, std)])\n",
    "\n",
    "test_transform = transforms.Compose([transforms.ToTensor(),\n",
    "     transforms.Normalize(means, std)])\n",
    "\n"
   ]
  },
  {
   "cell_type": "code",
   "execution_count": 35,
   "id": "476badc8",
   "metadata": {},
   "outputs": [],
   "source": [
    "#defining the parameters so we can do testing and training \n",
    "num_epochs = 25\n",
    "batch_size = 4\n",
    "learning_rate = 0.01"
   ]
  },
  {
   "cell_type": "code",
   "execution_count": 36,
   "id": "74da44ed",
   "metadata": {},
   "outputs": [
    {
     "name": "stdout",
     "output_type": "stream",
     "text": [
      "Files already downloaded and verified\n",
      "Files already downloaded and verified\n"
     ]
    }
   ],
   "source": [
    "#importing the dataset CIFAR10 into train and test data\n",
    "\n",
    "\n",
    "train_dataset = torchvision.datasets.CIFAR10(root='cifar-10-batches-py', train=True,\n",
    "                                        download=True, transform=train_transform)\n",
    "\n",
    "test_dataset = torchvision.datasets.CIFAR10(root='cifar-10-batches-py', train=False,\n",
    "                                       download=True, transform=test_transform)\n",
    "\n",
    "train_loader = torch.utils.data.DataLoader(train_dataset, batch_size=batch_size)\n",
    "                                          \n",
    "\n",
    "valid_loader = torch.utils.data.DataLoader(test_dataset, batch_size=batch_size)"
   ]
  },
  {
   "cell_type": "code",
   "execution_count": 37,
   "id": "ae5b488b",
   "metadata": {},
   "outputs": [],
   "source": [
    "#the classes we can have as the answers so out model can train and get the answers (all possible answers)\n",
    "classes = ('plane', 'car', 'bird', 'cat',\n",
    "           'deer', 'dog', 'frog', 'horse', 'ship', 'truck')"
   ]
  },
  {
   "cell_type": "code",
   "execution_count": 38,
   "id": "78e0389e",
   "metadata": {},
   "outputs": [
    {
     "name": "stderr",
     "output_type": "stream",
     "text": [
      "Clipping input data to the valid range for imshow with RGB data ([0..1] for floats or [0..255] for integers).\n"
     ]
    },
    {
     "data": {
      "image/png": "[encoded data removed]",
      "text/plain": [
       "<Figure size 1152x864 with 1 Axes>"
      ]
     },
     "metadata": {},
     "output_type": "display_data"
    }
   ],
   "source": [
    "#just trying to visualise how the pictures look so just used this funciton to display the images (will change due to the batch number you use)\n",
    "def show_batch(dl):\n",
    "    for images, labels in dl:\n",
    "        fig,ax = plt.subplots(figsize = (16,12))\n",
    "        ax.set_xticks([])\n",
    "        ax.set_yticks([])\n",
    "        ax.imshow(make_grid(images,nrow=16).permute(1,2,0))\n",
    "        break\n",
    "        \n",
    "show_batch(train_loader)"
   ]
  },
  {
   "cell_type": "code",
   "execution_count": 39,
   "id": "5c0dc921",
   "metadata": {},
   "outputs": [
    {
     "data": {
      "text/plain": [
       "device(type='cpu')"
      ]
     },
     "execution_count": 39,
     "metadata": {},
     "output_type": "execute_result"
    }
   ],
   "source": [
    "device = torch.device('cuda:0' if torch.cuda.is_available() else 'cpu')\n",
    "device"
   ]
  },
  {
   "cell_type": "code",
   "execution_count": 40,
   "id": "4f6a4a44",
   "metadata": {},
   "outputs": [],
   "source": [
    "#implementing a simple neural network\n",
    "class NeuralNetwork(nn.Module):\n",
    "    def __init__(self):\n",
    "        super(NeuralNetwork, self).__init__()\n",
    "        self.l1 = nn.Linear(400, 120)\n",
    "        self.l2 = nn.Linear(120, 84)\n",
    "        self.l3 = nn.Linear(84,10)\n",
    "\n",
    "    def forward(self, x):\n",
    "        #implementing the layers with activation functions ReLU\n",
    "        x = self.l1(x)\n",
    "        x = F.relu(x)\n",
    "        x = self.l2(x)\n",
    "        x = F.relu(x)\n",
    "        x = self.l3(x)\n",
    "        return x"
   ]
  },
  {
   "cell_type": "code",
   "execution_count": 41,
   "id": "bb1ed3cd",
   "metadata": {},
   "outputs": [
    {
     "name": "stdout",
     "output_type": "stream",
     "text": [
      "NeuralNetwork(\n",
      "  (l1): Linear(in_features=400, out_features=120, bias=True)\n",
      "  (l2): Linear(in_features=120, out_features=84, bias=True)\n",
      "  (l3): Linear(in_features=84, out_features=10, bias=True)\n",
      ")\n"
     ]
    }
   ],
   "source": [
    "modelN = NeuralNetwork()\n",
    "print(modelN)"
   ]
  },
  {
   "cell_type": "code",
   "execution_count": 42,
   "id": "af728b93",
   "metadata": {},
   "outputs": [],
   "source": [
    "#creating the convolutional neural network\n",
    "class CNN(nn.Module):\n",
    "    def __init__(self):\n",
    "        super(CNN, self).__init__()\n",
    "        #defining things we will do to the data so here we are adding 2 conv layers along with a pooling to get our size to 5x5 image\n",
    "        self.conv1 = nn.Conv2d(in_channels = 3, out_channels = 6, kernel_size = 5)\n",
    "        self.pool = nn.MaxPool2d(2, 2)\n",
    "        self.conv2 = nn.Conv2d(6, 16, kernel_size = 5)\n",
    "        self.batch = nn.BatchNorm2d(64)\n",
    "        #Dropout = nn.Dropout\n",
    "        self.fc1 = nn.Linear(400, 120)\n",
    "        self.fc2 = nn.Linear(120, 84)\n",
    "        self.fc3 = nn.Linear(84, 10)\n",
    "\n",
    "    #forward pass doing the layers from the diagram specified in the report\n",
    "    def forward(self, x):\n",
    "        x = self.conv1(x)\n",
    "        x = F.relu(x)\n",
    "        x = self.pool(x)\n",
    "        x = self.conv2(x)\n",
    "        x = F.relu(x)\n",
    "        x = self.pool(x)\n",
    "        x = x.view(-1, 16*5*5) \n",
    "        x = self.fc1(x)\n",
    "        x = F.relu(x)  \n",
    "        x = self.fc2(x)\n",
    "        x = F.relu(x)         \n",
    "        x = self.fc3(x)                       \n",
    "        return x"
   ]
  },
  {
   "cell_type": "code",
   "execution_count": 43,
   "id": "b8b05527",
   "metadata": {},
   "outputs": [
    {
     "name": "stdout",
     "output_type": "stream",
     "text": [
      "CNN(\n",
      "  (conv1): Conv2d(3, 6, kernel_size=(5, 5), stride=(1, 1))\n",
      "  (pool): MaxPool2d(kernel_size=2, stride=2, padding=0, dilation=1, ceil_mode=False)\n",
      "  (conv2): Conv2d(6, 16, kernel_size=(5, 5), stride=(1, 1))\n",
      "  (batch): BatchNorm2d(64, eps=1e-05, momentum=0.1, affine=True, track_running_stats=True)\n",
      "  (fc1): Linear(in_features=400, out_features=120, bias=True)\n",
      "  (fc2): Linear(in_features=120, out_features=84, bias=True)\n",
      "  (fc3): Linear(in_features=84, out_features=10, bias=True)\n",
      ")\n"
     ]
    }
   ],
   "source": [
    "#displaying the model to see if it has the correct layers done to it\n",
    "model = CNN()\n",
    "print(model)"
   ]
  },
  {
   "cell_type": "code",
   "execution_count": 44,
   "id": "05f7aaa9",
   "metadata": {},
   "outputs": [],
   "source": [
    "#creating a model to train on\n",
    "model = CNN().to(device)\n",
    "#creating the loss cross Entropy loss which is the same as softmax\n",
    "criterion = nn.CrossEntropyLoss()\n",
    "#using optimizers and trying both Adam and gradient descent to see which model has the best results\n",
    "#optimizer = torch.optim.Adam(model.parameters(), lr=learning_rate)\n",
    "optimizer = torch.optim.SGD(model.parameters(), lr=learning_rate)"
   ]
  },
  {
   "cell_type": "code",
   "execution_count": 45,
   "id": "b4758dd1",
   "metadata": {},
   "outputs": [
    {
     "name": "stdout",
     "output_type": "stream",
     "text": [
      "Epoch: 1 \tTraining Loss: 1.7389 \tValidation Loss: 1.5290\n",
      "Epoch: 2 \tTraining Loss: 1.3565 \tValidation Loss: 1.3341\n",
      "Epoch: 3 \tTraining Loss: 1.2180 \tValidation Loss: 1.2357\n",
      "Epoch: 4 \tTraining Loss: 1.1205 \tValidation Loss: 1.1813\n",
      "Epoch: 5 \tTraining Loss: 1.0457 \tValidation Loss: 1.1975\n",
      "Epoch: 6 \tTraining Loss: 0.9876 \tValidation Loss: 1.2003\n",
      "Epoch: 7 \tTraining Loss: 0.9332 \tValidation Loss: 1.2089\n",
      "Epoch: 8 \tTraining Loss: 0.8977 \tValidation Loss: 1.2651\n",
      "Epoch: 9 \tTraining Loss: 0.8640 \tValidation Loss: 1.3006\n",
      "Epoch: 10 \tTraining Loss: 0.8321 \tValidation Loss: 1.3056\n",
      "Epoch: 11 \tTraining Loss: 0.8106 \tValidation Loss: 1.3534\n",
      "Epoch: 12 \tTraining Loss: 0.7924 \tValidation Loss: 1.3597\n",
      "Epoch: 13 \tTraining Loss: 0.7734 \tValidation Loss: 1.4426\n",
      "Epoch: 14 \tTraining Loss: 0.7569 \tValidation Loss: 1.4675\n",
      "Epoch: 15 \tTraining Loss: 0.7476 \tValidation Loss: 1.5729\n",
      "Epoch: 16 \tTraining Loss: 0.7400 \tValidation Loss: 1.5801\n",
      "Epoch: 17 \tTraining Loss: 0.7320 \tValidation Loss: 1.5900\n",
      "Epoch: 18 \tTraining Loss: 0.7202 \tValidation Loss: 1.6360\n",
      "Epoch: 19 \tTraining Loss: 0.7182 \tValidation Loss: 1.7806\n",
      "Epoch: 20 \tTraining Loss: 0.7082 \tValidation Loss: 1.7146\n",
      "Epoch: 21 \tTraining Loss: 0.7010 \tValidation Loss: 1.7218\n",
      "Epoch: 22 \tTraining Loss: 0.7046 \tValidation Loss: 1.7586\n",
      "Epoch: 23 \tTraining Loss: 0.6827 \tValidation Loss: 1.8353\n",
      "Epoch: 24 \tTraining Loss: 0.6846 \tValidation Loss: 1.7533\n",
      "Epoch: 25 \tTraining Loss: 0.7054 \tValidation Loss: 1.7693\n"
     ]
    }
   ],
   "source": [
    "#this is how we keep track of the train_loss and val_loss so we can plot a graph at the end to see if we overfit or not\n",
    "train_losses = []\n",
    "valid_losses = []\n",
    "\n",
    "#iterating for the number of epochs stated above\n",
    "for epoch in range(num_epochs):\n",
    "    #refreshing the train and valid_loss so we dont keep adding onto the previous value because then we will get a loss graph increasing rather than decreasing\n",
    "    train_loss = 0.0\n",
    "    valid_loss = 0.0\n",
    "    #this lets the model know we are training\n",
    "    model.train()\n",
    "    #iterating the train_loader which has all of our training images\n",
    "    for i, (data, target) in enumerate(train_loader):\n",
    "        #choosing the data and target device to run on if we have a gpu available\n",
    "        data = data.to(device)\n",
    "        target = target.to(device)\n",
    "        #clearing the gradient so we dont have any uneccesary data tracking and its all fresh for every epoch\n",
    "        optimizer.zero_grad()\n",
    "        # Forward pass\n",
    "        outputs = model(data)\n",
    "        loss = criterion(outputs, target)\n",
    " \n",
    "        # Backward and optimize\n",
    "        loss.backward()\n",
    "        optimizer.step()\n",
    "\n",
    "        #this gives us the train_loss calculation\n",
    "        train_loss+=loss.item() * data.size(0)\n",
    "\n",
    "    #this tells the program that we are validating now\n",
    "    model.eval()\n",
    "    #now iterating the validation pictures to test on\n",
    "    for data, target in valid_loader:\n",
    "        #choosing the data and target device to run on if we have a gpu available\n",
    "        data = data.to(device)\n",
    "        target = target.to(device)\n",
    "        #forward pass\n",
    "        output = model(data)\n",
    "        loss = criterion(output, target)\n",
    "\n",
    "        #we dont use backward pass for testing as we are not learning and only going forward to see if it gets it correct\n",
    "        \n",
    "        #calculating the validation loss \n",
    "        valid_loss += loss.item() * data.size(0)\n",
    "    \n",
    "    #\n",
    "    #I used this code from the lab9 cactus_classification to be able to draw a graph\n",
    "    #\n",
    "    # calculating the loss of the training and validation and adding them to the lists so we can plot a graph afterwards\n",
    "    train_loss = train_loss/len(train_loader.sampler)\n",
    "    valid_loss = valid_loss/len(valid_loader.sampler)\n",
    "    train_losses.append(train_loss)\n",
    "    valid_losses.append(valid_loss)\n",
    "    \n",
    "    print(f'Epoch: {epoch+1} \\tTraining Loss: {train_loss:.4f} \\tValidation Loss: {valid_loss:.4f}')\n",
    "      "
   ]
  },
  {
   "cell_type": "code",
   "execution_count": 46,
   "id": "79d166ba",
   "metadata": {},
   "outputs": [],
   "source": [
    "#saving to model as CifarModel\n",
    "torch.save(model.state_dict(), 'CifarModel')"
   ]
  },
  {
   "cell_type": "markdown",
   "id": "cbbd1dcb",
   "metadata": {},
   "source": [
    "doing analysis of the CNN modelling with loss graphs, accuracy and confusion matrix below"
   ]
  },
  {
   "cell_type": "code",
   "execution_count": 47,
   "id": "5072fb51",
   "metadata": {},
   "outputs": [
    {
     "name": "stdout",
     "output_type": "stream",
     "text": [
      "average accuracy 56.48%\n"
     ]
    }
   ],
   "source": [
    "#another validation but for this block I am calculating the accuracy\n",
    "model.eval()\n",
    "with torch.no_grad():\n",
    "    correct = 0\n",
    "    total = 0\n",
    "    #iterate the test dataset with all the test images\n",
    "    for images, labels in valid_loader:\n",
    "        images = images.to(device)\n",
    "        labels = labels.to(device)\n",
    "        #forward pass with no loss because we are just predicting here and getting accuracy\n",
    "        outputs = model(images)\n",
    "        # max returns (value ,index)\n",
    "        _, predicted = torch.max(outputs, 1)\n",
    "        \n",
    "        total += labels.size(0)\n",
    "        correct += (predicted == labels).sum().item()\n",
    "    #doing the calculations to get average accuracy to see how well our model performed\n",
    "    total_acc = 100.0 * correct / total \n",
    "    #displays the accuracy\n",
    "    print(f'average accuracy {total_acc}%')\n",
    "\n",
    "    "
   ]
  },
  {
   "cell_type": "code",
   "execution_count": 68,
   "id": "b4219aa5",
   "metadata": {},
   "outputs": [],
   "source": [
    "# I found this code online to help me get some values so I could draw a confusiion matrix link : https://deeplizard.com/learn/video/0LhiS6yu2qQ\n",
    "# the code creates an empty tensor all_preds and then takes all prediction when it runs the model on the images in the test_loader \n",
    "#then it concatanates all of the predictions into the all_preds tensor using torch.cat and then we have the predictions we will use in the confusion matrix\n",
    "def get_all_preds(model, loader):\n",
    "  all_preds = torch.tensor([])\n",
    "  for batch in loader:\n",
    "    images, labels = batch\n",
    "\n",
    "    predictions = model(images)\n",
    "    all_preds = torch.cat((all_preds, predictions))\n",
    "\n",
    "  return all_preds"
   ]
  },
  {
   "cell_type": "code",
   "execution_count": 74,
   "id": "d1cf6bb7",
   "metadata": {},
   "outputs": [],
   "source": [
    "#running the get_all_preds function to draw a confusion matrix\n",
    "test_prediction = get_all_preds(model, valid_loader)\n",
    "#giving the confusion matrix the things we are modeling with \n",
    "cm = confusion_matrix(test_dataset.targets, test_prediction.argmax(dim=1))\n"
   ]
  },
  {
   "cell_type": "code",
   "execution_count": 77,
   "id": "da354443",
   "metadata": {},
   "outputs": [
    {
     "data": {
      "image/png": "[encoded data removed]",
      "text/plain": [
       "<Figure size 720x720 with 1 Axes>"
      ]
     },
     "metadata": {
      "needs_background": "light"
     },
     "output_type": "display_data"
    }
   ],
   "source": [
    "#drawing the matrix\n",
    "plt.figure(figsize=(10,10))\n",
    "plt.imshow(cm, interpolation='nearest', cmap=plt.cm.Blues)\n",
    "plt.title('CIFAR10 Confustion matrix')\n",
    "tick_marks = np.arange(len(classes))\n",
    "plt.xticks(tick_marks, classes, rotation=45)\n",
    "plt.yticks(tick_marks, classes)\n",
    "t = cm.max() / 2.\n",
    "\n",
    "for i, j in itertools.product(range(cm.shape[0]), range(cm.shape[1])):\n",
    "    plt.text(j, i, format(cm[i, j]),horizontalalignment=\"center\",\n",
    "             color=\"white\" if cm[i, j] > t else \"black\")\n",
    "plt.ylabel('True label')\n",
    "plt.xlabel('Predicted label')\n",
    "plt.show()"
   ]
  },
  {
   "cell_type": "code",
   "execution_count": 61,
   "id": "ebe87015",
   "metadata": {},
   "outputs": [
    {
     "data": {
      "text/plain": [
       "<matplotlib.legend.Legend at 0x7fbb2b573be0>"
      ]
     },
     "execution_count": 61,
     "metadata": {},
     "output_type": "execute_result"
    },
    {
     "data": {
      "image/png": "[encoded data removed]",
      "text/plain": [
       "<Figure size 432x288 with 1 Axes>"
      ]
     },
     "metadata": {
      "needs_background": "light"
     },
     "output_type": "display_data"
    }
   ],
   "source": [
    "plt.plot(train_losses, label = 'training loss')\n",
    "plt.plot(valid_losses, label = 'validation loss')\n",
    "\n",
    "plt.xlabel('epochs')\n",
    "plt.ylabel('Loss')\n",
    "plt.legend(frameon = False)"
   ]
  }
 ],
 "metadata": {
  "interpreter": {
   "hash": "aee8b7b246df8f9039afb4144a1f6fd8d2ca17a180786b69acc140d282b71a49"
  },
  "kernelspec": {
   "display_name": "Anaconda (base)",
   "language": "python",
   "name": "python3"
  },
  "language_info": {
   "codemirror_mode": {
    "name": "ipython",
    "version": 3
   },
   "file_extension": ".py",
   "mimetype": "text/x-python",
   "name": "python",
   "nbconvert_exporter": "python",
   "pygments_lexer": "ipython3",
   "version": "3.9.0"
  }
 },
 "nbformat": 4,
 "nbformat_minor": 5
}
